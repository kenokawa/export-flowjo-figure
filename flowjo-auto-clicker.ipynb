{
 "cells": [
  {
   "cell_type": "code",
   "execution_count": 1,
   "metadata": {},
   "outputs": [
    {
     "name": "stdout",
     "output_type": "stream",
     "text": [
      "Requirement already satisfied: pyautogui in /opt/anaconda3/lib/python3.7/site-packages (0.9.50)\n",
      "Requirement already satisfied: pyobjc; platform_system == \"Darwin\" in /opt/anaconda3/lib/python3.7/site-packages (from pyautogui) (6.2)\n",
      "Requirement already satisfied: pyscreeze>=0.1.21 in /opt/anaconda3/lib/python3.7/site-packages (from pyautogui) (0.1.26)\n",
      "Requirement already satisfied: pyobjc-core; platform_system == \"Darwin\" in /opt/anaconda3/lib/python3.7/site-packages (from pyautogui) (6.2)\n",
      "Requirement already satisfied: mouseinfo in /opt/anaconda3/lib/python3.7/site-packages (from pyautogui) (0.1.3)\n",
      "Requirement already satisfied: PyTweening>=1.0.1 in /opt/anaconda3/lib/python3.7/site-packages (from pyautogui) (1.0.3)\n",
      "Requirement already satisfied: pygetwindow>=0.0.5 in /opt/anaconda3/lib/python3.7/site-packages (from pyautogui) (0.0.8)\n",
      "Requirement already satisfied: pymsgbox in /opt/anaconda3/lib/python3.7/site-packages (from pyautogui) (1.0.8)\n",
      "Requirement already satisfied: pyobjc-framework-libdispatch==6.2; platform_release >= \"12.0\" in /opt/anaconda3/lib/python3.7/site-packages (from pyobjc; platform_system == \"Darwin\"->pyautogui) (6.2)\n",
      "Requirement already satisfied: pyobjc-framework-ApplicationServices==6.2 in /opt/anaconda3/lib/python3.7/site-packages (from pyobjc; platform_system == \"Darwin\"->pyautogui) (6.2)\n",
      "Requirement already satisfied: pyobjc-framework-SecurityInterface==6.2 in /opt/anaconda3/lib/python3.7/site-packages (from pyobjc; platform_system == \"Darwin\"->pyautogui) (6.2)\n",
      "Requirement already satisfied: pyobjc-framework-PubSub==6.2; platform_release >= \"9.0\" in /opt/anaconda3/lib/python3.7/site-packages (from pyobjc; platform_system == \"Darwin\"->pyautogui) (6.2)\n",
      "Requirement already satisfied: pyobjc-framework-CoreAudio==6.2 in /opt/anaconda3/lib/python3.7/site-packages (from pyobjc; platform_system == \"Darwin\"->pyautogui) (6.2)\n",
      "Requirement already satisfied: pyobjc-framework-ColorSync==6.2; platform_release >= \"17.0\" in /opt/anaconda3/lib/python3.7/site-packages (from pyobjc; platform_system == \"Darwin\"->pyautogui) (6.2)\n",
      "Requirement already satisfied: pyobjc-framework-GameCenter==6.2; platform_release >= \"12.0\" in /opt/anaconda3/lib/python3.7/site-packages (from pyobjc; platform_system == \"Darwin\"->pyautogui) (6.2)\n",
      "Requirement already satisfied: pyobjc-framework-LaunchServices==6.2 in /opt/anaconda3/lib/python3.7/site-packages (from pyobjc; platform_system == \"Darwin\"->pyautogui) (6.2)\n",
      "Requirement already satisfied: pyobjc-framework-AdSupport==6.2; platform_release >= \"18.0\" in /opt/anaconda3/lib/python3.7/site-packages (from pyobjc; platform_system == \"Darwin\"->pyautogui) (6.2)\n",
      "Requirement already satisfied: pyobjc-framework-VideoToolbox==6.2; platform_release >= \"12.0\" in /opt/anaconda3/lib/python3.7/site-packages (from pyobjc; platform_system == \"Darwin\"->pyautogui) (6.2)\n",
      "Requirement already satisfied: pyobjc-framework-OSLog==6.2; platform_release >= \"19.0\" in /opt/anaconda3/lib/python3.7/site-packages (from pyobjc; platform_system == \"Darwin\"->pyautogui) (6.2)\n",
      "Requirement already satisfied: pyobjc-framework-GameController==6.2; platform_release >= \"13.0\" in /opt/anaconda3/lib/python3.7/site-packages (from pyobjc; platform_system == \"Darwin\"->pyautogui) (6.2)\n",
      "Requirement already satisfied: pyobjc-framework-CoreServices==6.2 in /opt/anaconda3/lib/python3.7/site-packages (from pyobjc; platform_system == \"Darwin\"->pyautogui) (6.2)\n",
      "Requirement already satisfied: pyobjc-framework-ExecutionPolicy==6.2; platform_release >= \"19.0\" in /opt/anaconda3/lib/python3.7/site-packages (from pyobjc; platform_system == \"Darwin\"->pyautogui) (6.2)\n",
      "Requirement already satisfied: pyobjc-framework-IMServicePlugIn==6.2; platform_release >= \"11.0\" in /opt/anaconda3/lib/python3.7/site-packages (from pyobjc; platform_system == \"Darwin\"->pyautogui) (6.2)\n",
      "Requirement already satisfied: pyobjc-framework-DictionaryServices==6.2; platform_release >= \"9.0\" in /opt/anaconda3/lib/python3.7/site-packages (from pyobjc; platform_system == \"Darwin\"->pyautogui) (6.2)\n",
      "Requirement already satisfied: pyobjc-framework-WebKit==6.2 in /opt/anaconda3/lib/python3.7/site-packages (from pyobjc; platform_system == \"Darwin\"->pyautogui) (6.2)\n",
      "Requirement already satisfied: pyobjc-framework-NaturalLanguage==6.2; platform_release >= \"18.0\" in /opt/anaconda3/lib/python3.7/site-packages (from pyobjc; platform_system == \"Darwin\"->pyautogui) (6.2)\n",
      "Requirement already satisfied: pyobjc-framework-FileProvider==6.2; platform_release >= \"19.0\" in /opt/anaconda3/lib/python3.7/site-packages (from pyobjc; platform_system == \"Darwin\"->pyautogui) (6.2)\n",
      "Requirement already satisfied: pyobjc-framework-FSEvents==6.2; platform_release >= \"9.0\" in /opt/anaconda3/lib/python3.7/site-packages (from pyobjc; platform_system == \"Darwin\"->pyautogui) (6.2)\n",
      "Requirement already satisfied: pyobjc-framework-Vision==6.2; platform_release >= \"17.0\" in /opt/anaconda3/lib/python3.7/site-packages (from pyobjc; platform_system == \"Darwin\"->pyautogui) (6.2)\n",
      "Requirement already satisfied: pyobjc-framework-FinderSync==6.2; platform_release >= \"14.0\" in /opt/anaconda3/lib/python3.7/site-packages (from pyobjc; platform_system == \"Darwin\"->pyautogui) (6.2)\n",
      "Requirement already satisfied: pyobjc-framework-CoreData==6.2 in /opt/anaconda3/lib/python3.7/site-packages (from pyobjc; platform_system == \"Darwin\"->pyautogui) (6.2)\n",
      "Requirement already satisfied: pyobjc-framework-Quartz==6.2 in /opt/anaconda3/lib/python3.7/site-packages (from pyobjc; platform_system == \"Darwin\"->pyautogui) (6.2)\n",
      "Requirement already satisfied: pyobjc-framework-LatentSemanticMapping==6.2 in /opt/anaconda3/lib/python3.7/site-packages (from pyobjc; platform_system == \"Darwin\"->pyautogui) (6.2)\n",
      "Requirement already satisfied: pyobjc-framework-Accounts==6.2; platform_release >= \"12.0\" in /opt/anaconda3/lib/python3.7/site-packages (from pyobjc; platform_system == \"Darwin\"->pyautogui) (6.2)\n",
      "Requirement already satisfied: pyobjc-framework-Automator==6.2 in /opt/anaconda3/lib/python3.7/site-packages (from pyobjc; platform_system == \"Darwin\"->pyautogui) (6.2)\n",
      "Requirement already satisfied: pyobjc-framework-AVFoundation==6.2; platform_release >= \"11.0\" in /opt/anaconda3/lib/python3.7/site-packages (from pyobjc; platform_system == \"Darwin\"->pyautogui) (6.2)\n",
      "Requirement already satisfied: pyobjc-framework-ExceptionHandling==6.2 in /opt/anaconda3/lib/python3.7/site-packages (from pyobjc; platform_system == \"Darwin\"->pyautogui) (6.2)\n",
      "Requirement already satisfied: pyobjc-framework-ImageCaptureCore==6.2; platform_release >= \"10.0\" in /opt/anaconda3/lib/python3.7/site-packages (from pyobjc; platform_system == \"Darwin\"->pyautogui) (6.2)\n",
      "Requirement already satisfied: pyobjc-framework-CoreAudioKit==6.2 in /opt/anaconda3/lib/python3.7/site-packages (from pyobjc; platform_system == \"Darwin\"->pyautogui) (6.2)\n",
      "Requirement already satisfied: pyobjc-framework-UserNotifications==6.2; platform_release >= \"18.0\" in /opt/anaconda3/lib/python3.7/site-packages (from pyobjc; platform_system == \"Darwin\"->pyautogui) (6.2)\n",
      "Requirement already satisfied: pyobjc-framework-PencilKit==6.2; platform_release >= \"19.0\" in /opt/anaconda3/lib/python3.7/site-packages (from pyobjc; platform_system == \"Darwin\"->pyautogui) (6.2)\n",
      "Requirement already satisfied: pyobjc-framework-CoreBluetooth==6.2; platform_release >= \"14.0\" in /opt/anaconda3/lib/python3.7/site-packages (from pyobjc; platform_system == \"Darwin\"->pyautogui) (6.2)\n",
      "Requirement already satisfied: pyobjc-framework-MediaToolbox==6.2; platform_release >= \"13.0\" in /opt/anaconda3/lib/python3.7/site-packages (from pyobjc; platform_system == \"Darwin\"->pyautogui) (6.2)\n",
      "Requirement already satisfied: pyobjc-framework-InstallerPlugins==6.2 in /opt/anaconda3/lib/python3.7/site-packages (from pyobjc; platform_system == \"Darwin\"->pyautogui) (6.2)\n",
      "Requirement already satisfied: pyobjc-framework-DiskArbitration==6.2 in /opt/anaconda3/lib/python3.7/site-packages (from pyobjc; platform_system == \"Darwin\"->pyautogui) (6.2)\n",
      "Requirement already satisfied: pyobjc-framework-DeviceCheck==6.2; platform_release >= \"19.0\" in /opt/anaconda3/lib/python3.7/site-packages (from pyobjc; platform_system == \"Darwin\"->pyautogui) (6.2)\n",
      "Requirement already satisfied: pyobjc-framework-CryptoTokenKit==6.2; platform_release >= \"14.0\" in /opt/anaconda3/lib/python3.7/site-packages (from pyobjc; platform_system == \"Darwin\"->pyautogui) (6.2)\n",
      "Requirement already satisfied: pyobjc-framework-SceneKit==6.2; platform_release >= \"11.0\" in /opt/anaconda3/lib/python3.7/site-packages (from pyobjc; platform_system == \"Darwin\"->pyautogui) (6.2)\n",
      "Requirement already satisfied: pyobjc-framework-CalendarStore==6.2; platform_release >= \"9.0\" in /opt/anaconda3/lib/python3.7/site-packages (from pyobjc; platform_system == \"Darwin\"->pyautogui) (6.2)\n"
     ]
    },
    {
     "name": "stdout",
     "output_type": "stream",
     "text": [
      "Requirement already satisfied: pyobjc-framework-SyncServices==6.2 in /opt/anaconda3/lib/python3.7/site-packages (from pyobjc; platform_system == \"Darwin\"->pyautogui) (6.2)\n",
      "Requirement already satisfied: pyobjc-framework-Social==6.2; platform_release >= \"12.0\" in /opt/anaconda3/lib/python3.7/site-packages (from pyobjc; platform_system == \"Darwin\"->pyautogui) (6.2)\n",
      "Requirement already satisfied: pyobjc-framework-AppleScriptKit==6.2 in /opt/anaconda3/lib/python3.7/site-packages (from pyobjc; platform_system == \"Darwin\"->pyautogui) (6.2)\n",
      "Requirement already satisfied: pyobjc-framework-SecurityFoundation==6.2 in /opt/anaconda3/lib/python3.7/site-packages (from pyobjc; platform_system == \"Darwin\"->pyautogui) (6.2)\n",
      "Requirement already satisfied: pyobjc-framework-LocalAuthentication==6.2; platform_release >= \"14.0\" in /opt/anaconda3/lib/python3.7/site-packages (from pyobjc; platform_system == \"Darwin\"->pyautogui) (6.2)\n",
      "Requirement already satisfied: pyobjc-framework-MultipeerConnectivity==6.2; platform_release >= \"14.0\" in /opt/anaconda3/lib/python3.7/site-packages (from pyobjc; platform_system == \"Darwin\"->pyautogui) (6.2)\n",
      "Requirement already satisfied: pyobjc-framework-StoreKit==6.2; platform_release >= \"11.0\" in /opt/anaconda3/lib/python3.7/site-packages (from pyobjc; platform_system == \"Darwin\"->pyautogui) (6.2)\n",
      "Requirement already satisfied: pyobjc-framework-CoreMediaIO==6.2; platform_release >= \"11.0\" in /opt/anaconda3/lib/python3.7/site-packages (from pyobjc; platform_system == \"Darwin\"->pyautogui) (6.2)\n",
      "Requirement already satisfied: pyobjc-framework-Speech==6.2; platform_release >= \"19.0\" in /opt/anaconda3/lib/python3.7/site-packages (from pyobjc; platform_system == \"Darwin\"->pyautogui) (6.2)\n",
      "Requirement already satisfied: pyobjc-framework-Contacts==6.2; platform_release >= \"15.0\" in /opt/anaconda3/lib/python3.7/site-packages (from pyobjc; platform_system == \"Darwin\"->pyautogui) (6.2)\n",
      "Requirement already satisfied: pyobjc-framework-AutomaticAssessmentConfiguration==6.2; platform_release >= \"19.0\" in /opt/anaconda3/lib/python3.7/site-packages (from pyobjc; platform_system == \"Darwin\"->pyautogui) (6.2)\n",
      "Requirement already satisfied: pyobjc-framework-GameKit==6.2; platform_release >= \"12.0\" in /opt/anaconda3/lib/python3.7/site-packages (from pyobjc; platform_system == \"Darwin\"->pyautogui) (6.2)\n",
      "Requirement already satisfied: pyobjc-framework-Network==6.2; platform_release >= \"18.0\" in /opt/anaconda3/lib/python3.7/site-packages (from pyobjc; platform_system == \"Darwin\"->pyautogui) (6.2)\n",
      "Requirement already satisfied: pyobjc-framework-ExternalAccessory==6.2; platform_release >= \"17.0\" in /opt/anaconda3/lib/python3.7/site-packages (from pyobjc; platform_system == \"Darwin\"->pyautogui) (6.2)\n",
      "Requirement already satisfied: pyobjc-framework-IOSurface==6.2; platform_release >= \"10.0\" in /opt/anaconda3/lib/python3.7/site-packages (from pyobjc; platform_system == \"Darwin\"->pyautogui) (6.2)\n",
      "Requirement already satisfied: pyobjc-framework-CoreHaptics==6.2; platform_release >= \"19.0\" in /opt/anaconda3/lib/python3.7/site-packages (from pyobjc; platform_system == \"Darwin\"->pyautogui) (6.2)\n",
      "Requirement already satisfied: pyobjc-framework-PreferencePanes==6.2 in /opt/anaconda3/lib/python3.7/site-packages (from pyobjc; platform_system == \"Darwin\"->pyautogui) (6.2)\n",
      "Requirement already satisfied: pyobjc-framework-InputMethodKit==6.2; platform_release >= \"9.0\" in /opt/anaconda3/lib/python3.7/site-packages (from pyobjc; platform_system == \"Darwin\"->pyautogui) (6.2)\n",
      "Requirement already satisfied: pyobjc-framework-CoreLocation==6.2; platform_release >= \"10.0\" in /opt/anaconda3/lib/python3.7/site-packages (from pyobjc; platform_system == \"Darwin\"->pyautogui) (6.2)\n",
      "Requirement already satisfied: pyobjc-framework-iTunesLibrary==6.2; platform_release >= \"10.0\" in /opt/anaconda3/lib/python3.7/site-packages (from pyobjc; platform_system == \"Darwin\"->pyautogui) (6.2)\n",
      "Requirement already satisfied: pyobjc-framework-PushKit==6.2; platform_release >= \"19.0\" in /opt/anaconda3/lib/python3.7/site-packages (from pyobjc; platform_system == \"Darwin\"->pyautogui) (6.2)\n",
      "Requirement already satisfied: pyobjc-framework-LinkPresentation==6.2; platform_release >= \"19.0\" in /opt/anaconda3/lib/python3.7/site-packages (from pyobjc; platform_system == \"Darwin\"->pyautogui) (6.2)\n",
      "Requirement already satisfied: pyobjc-framework-MediaLibrary==6.2; platform_release >= \"13.0\" in /opt/anaconda3/lib/python3.7/site-packages (from pyobjc; platform_system == \"Darwin\"->pyautogui) (6.2)\n",
      "Requirement already satisfied: pyobjc-framework-SystemExtensions==6.2; platform_release >= \"19.0\" in /opt/anaconda3/lib/python3.7/site-packages (from pyobjc; platform_system == \"Darwin\"->pyautogui) (6.2)\n",
      "Requirement already satisfied: pyobjc-framework-MediaPlayer==6.2; platform_release >= \"16.0\" in /opt/anaconda3/lib/python3.7/site-packages (from pyobjc; platform_system == \"Darwin\"->pyautogui) (6.2)\n",
      "Requirement already satisfied: pyobjc-framework-Metal==6.2; platform_release >= \"15.0\" in /opt/anaconda3/lib/python3.7/site-packages (from pyobjc; platform_system == \"Darwin\"->pyautogui) (6.2)\n",
      "Requirement already satisfied: pyobjc-framework-Collaboration==6.2; platform_release >= \"9.0\" in /opt/anaconda3/lib/python3.7/site-packages (from pyobjc; platform_system == \"Darwin\"->pyautogui) (6.2)\n",
      "Requirement already satisfied: pyobjc-framework-AppleScriptObjC==6.2; platform_release >= \"10.0\" in /opt/anaconda3/lib/python3.7/site-packages (from pyobjc; platform_system == \"Darwin\"->pyautogui) (6.2)\n",
      "Requirement already satisfied: pyobjc-framework-ScreenSaver==6.2 in /opt/anaconda3/lib/python3.7/site-packages (from pyobjc; platform_system == \"Darwin\"->pyautogui) (6.2)\n",
      "Requirement already satisfied: pyobjc-framework-CoreMedia==6.2; platform_release >= \"11.0\" in /opt/anaconda3/lib/python3.7/site-packages (from pyobjc; platform_system == \"Darwin\"->pyautogui) (6.2)\n",
      "Requirement already satisfied: pyobjc-framework-OSAKit==6.2 in /opt/anaconda3/lib/python3.7/site-packages (from pyobjc; platform_system == \"Darwin\"->pyautogui) (6.2)\n",
      "Requirement already satisfied: pyobjc-framework-SafariServices==6.2; platform_release >= \"15.0\" in /opt/anaconda3/lib/python3.7/site-packages (from pyobjc; platform_system == \"Darwin\"->pyautogui) (6.2)\n",
      "Requirement already satisfied: pyobjc-framework-AVKit==6.2; platform_release >= \"13.0\" in /opt/anaconda3/lib/python3.7/site-packages (from pyobjc; platform_system == \"Darwin\"->pyautogui) (6.2)\n",
      "Requirement already satisfied: pyobjc-framework-Security==6.2 in /opt/anaconda3/lib/python3.7/site-packages (from pyobjc; platform_system == \"Darwin\"->pyautogui) (6.2)\n",
      "Requirement already satisfied: pyobjc-framework-OpenDirectory==6.2; platform_release >= \"10.0\" in /opt/anaconda3/lib/python3.7/site-packages (from pyobjc; platform_system == \"Darwin\"->pyautogui) (6.2)\n",
      "Requirement already satisfied: pyobjc-framework-MediaAccessibility==6.2; platform_release >= \"13.0\" in /opt/anaconda3/lib/python3.7/site-packages (from pyobjc; platform_system == \"Darwin\"->pyautogui) (6.2)\n",
      "Requirement already satisfied: pyobjc-framework-MapKit==6.2; platform_release >= \"13.0\" in /opt/anaconda3/lib/python3.7/site-packages (from pyobjc; platform_system == \"Darwin\"->pyautogui) (6.2)\n",
      "Requirement already satisfied: pyobjc-framework-SearchKit==6.2 in /opt/anaconda3/lib/python3.7/site-packages (from pyobjc; platform_system == \"Darwin\"->pyautogui) (6.2)\n",
      "Requirement already satisfied: pyobjc-framework-ScriptingBridge==6.2; platform_release >= \"9.0\" in /opt/anaconda3/lib/python3.7/site-packages (from pyobjc; platform_system == \"Darwin\"->pyautogui) (6.2)\n",
      "Requirement already satisfied: pyobjc-framework-SystemConfiguration==6.2 in /opt/anaconda3/lib/python3.7/site-packages (from pyobjc; platform_system == \"Darwin\"->pyautogui) (6.2)\n",
      "Requirement already satisfied: pyobjc-framework-CoreSpotlight==6.2; platform_release >= \"17.0\" in /opt/anaconda3/lib/python3.7/site-packages (from pyobjc; platform_system == \"Darwin\"->pyautogui) (6.2)\n",
      "Requirement already satisfied: pyobjc-framework-ServiceManagement==6.2; platform_release >= \"10.0\" in /opt/anaconda3/lib/python3.7/site-packages (from pyobjc; platform_system == \"Darwin\"->pyautogui) (6.2)\n",
      "Requirement already satisfied: pyobjc-framework-SoundAnalysis==6.2; platform_release >= \"19.0\" in /opt/anaconda3/lib/python3.7/site-packages (from pyobjc; platform_system == \"Darwin\"->pyautogui) (6.2)\n",
      "Requirement already satisfied: pyobjc-framework-MetalKit==6.2; platform_release >= \"15.0\" in /opt/anaconda3/lib/python3.7/site-packages (from pyobjc; platform_system == \"Darwin\"->pyautogui) (6.2)\n",
      "Requirement already satisfied: pyobjc-framework-DiscRecording==6.2 in /opt/anaconda3/lib/python3.7/site-packages (from pyobjc; platform_system == \"Darwin\"->pyautogui) (6.2)\n",
      "Requirement already satisfied: pyobjc-framework-PhotosUI==6.2; platform_release >= \"15.0\" in /opt/anaconda3/lib/python3.7/site-packages (from pyobjc; platform_system == \"Darwin\"->pyautogui) (6.2)\n",
      "Requirement already satisfied: pyobjc-framework-DiscRecordingUI==6.2 in /opt/anaconda3/lib/python3.7/site-packages (from pyobjc; platform_system == \"Darwin\"->pyautogui) (6.2)\n"
     ]
    },
    {
     "name": "stdout",
     "output_type": "stream",
     "text": [
      "Requirement already satisfied: pyobjc-framework-NotificationCenter==6.2; platform_release >= \"14.0\" in /opt/anaconda3/lib/python3.7/site-packages (from pyobjc; platform_system == \"Darwin\"->pyautogui) (6.2)\n",
      "Requirement already satisfied: pyobjc-framework-ModelIO==6.2; platform_release >= \"15.0\" in /opt/anaconda3/lib/python3.7/site-packages (from pyobjc; platform_system == \"Darwin\"->pyautogui) (6.2)\n",
      "Requirement already satisfied: pyobjc-framework-CoreWLAN==6.2; platform_release >= \"10.0\" in /opt/anaconda3/lib/python3.7/site-packages (from pyobjc; platform_system == \"Darwin\"->pyautogui) (6.2)\n",
      "Requirement already satisfied: pyobjc-framework-Photos==6.2; platform_release >= \"15.0\" in /opt/anaconda3/lib/python3.7/site-packages (from pyobjc; platform_system == \"Darwin\"->pyautogui) (6.2)\n",
      "Requirement already satisfied: pyobjc-framework-Cocoa==6.2 in /opt/anaconda3/lib/python3.7/site-packages (from pyobjc; platform_system == \"Darwin\"->pyautogui) (6.2)\n",
      "Requirement already satisfied: pyobjc-framework-CloudKit==6.2; platform_release >= \"14.0\" in /opt/anaconda3/lib/python3.7/site-packages (from pyobjc; platform_system == \"Darwin\"->pyautogui) (6.2)\n",
      "Requirement already satisfied: pyobjc-framework-NetFS==6.2; platform_release >= \"10.0\" in /opt/anaconda3/lib/python3.7/site-packages (from pyobjc; platform_system == \"Darwin\"->pyautogui) (6.2)\n",
      "Requirement already satisfied: pyobjc-framework-CFNetwork==6.2 in /opt/anaconda3/lib/python3.7/site-packages (from pyobjc; platform_system == \"Darwin\"->pyautogui) (6.2)\n",
      "Requirement already satisfied: pyobjc-framework-GameplayKit==6.2; platform_release >= \"15.0\" in /opt/anaconda3/lib/python3.7/site-packages (from pyobjc; platform_system == \"Darwin\"->pyautogui) (6.2)\n",
      "Requirement already satisfied: pyobjc-framework-EventKit==6.2; platform_release >= \"12.0\" in /opt/anaconda3/lib/python3.7/site-packages (from pyobjc; platform_system == \"Darwin\"->pyautogui) (6.2)\n",
      "Requirement already satisfied: pyobjc-framework-BusinessChat==6.2; platform_release >= \"18.0\" in /opt/anaconda3/lib/python3.7/site-packages (from pyobjc; platform_system == \"Darwin\"->pyautogui) (6.2)\n",
      "Requirement already satisfied: pyobjc-framework-CoreText==6.2 in /opt/anaconda3/lib/python3.7/site-packages (from pyobjc; platform_system == \"Darwin\"->pyautogui) (6.2)\n",
      "Requirement already satisfied: pyobjc-framework-AuthenticationServices==6.2; platform_release >= \"19.0\" in /opt/anaconda3/lib/python3.7/site-packages (from pyobjc; platform_system == \"Darwin\"->pyautogui) (6.2)\n",
      "Requirement already satisfied: pyobjc-framework-QuickLookThumbnailing==6.2; platform_release >= \"19.0\" in /opt/anaconda3/lib/python3.7/site-packages (from pyobjc; platform_system == \"Darwin\"->pyautogui) (6.2)\n",
      "Requirement already satisfied: pyobjc-framework-FileProviderUI==6.2; platform_release >= \"19.0\" in /opt/anaconda3/lib/python3.7/site-packages (from pyobjc; platform_system == \"Darwin\"->pyautogui) (6.2)\n",
      "Requirement already satisfied: pyobjc-framework-VideoSubscriberAccount==6.2; platform_release >= \"18.0\" in /opt/anaconda3/lib/python3.7/site-packages (from pyobjc; platform_system == \"Darwin\"->pyautogui) (6.2)\n",
      "Requirement already satisfied: pyobjc-framework-CoreMotion==6.2; platform_release >= \"19.0\" in /opt/anaconda3/lib/python3.7/site-packages (from pyobjc; platform_system == \"Darwin\"->pyautogui) (6.2)\n",
      "Requirement already satisfied: pyobjc-framework-AddressBook==6.2 in /opt/anaconda3/lib/python3.7/site-packages (from pyobjc; platform_system == \"Darwin\"->pyautogui) (6.2)\n",
      "Requirement already satisfied: pyobjc-framework-InstantMessage==6.2; platform_release >= \"9.0\" in /opt/anaconda3/lib/python3.7/site-packages (from pyobjc; platform_system == \"Darwin\"->pyautogui) (6.2)\n",
      "Requirement already satisfied: pyobjc-framework-NetworkExtension==6.2; platform_release >= \"15.0\" in /opt/anaconda3/lib/python3.7/site-packages (from pyobjc; platform_system == \"Darwin\"->pyautogui) (6.2)\n",
      "Requirement already satisfied: pyobjc-framework-CoreML==6.2; platform_release >= \"17.0\" in /opt/anaconda3/lib/python3.7/site-packages (from pyobjc; platform_system == \"Darwin\"->pyautogui) (6.2)\n",
      "Requirement already satisfied: pyobjc-framework-DVDPlayback==6.2 in /opt/anaconda3/lib/python3.7/site-packages (from pyobjc; platform_system == \"Darwin\"->pyautogui) (6.2)\n",
      "Requirement already satisfied: pyobjc-framework-Intents==6.2; platform_release >= \"16.0\" in /opt/anaconda3/lib/python3.7/site-packages (from pyobjc; platform_system == \"Darwin\"->pyautogui) (6.2)\n",
      "Requirement already satisfied: pyobjc-framework-SpriteKit==6.2; platform_release >= \"13.0\" in /opt/anaconda3/lib/python3.7/site-packages (from pyobjc; platform_system == \"Darwin\"->pyautogui) (6.2)\n",
      "Requirement already satisfied: pyobjc-framework-ContactsUI==6.2; platform_release >= \"15.0\" in /opt/anaconda3/lib/python3.7/site-packages (from pyobjc; platform_system == \"Darwin\"->pyautogui) (6.2)\n",
      "Requirement already satisfied: Pillow>=5.2.0; python_version == \"3.7\" in /opt/anaconda3/lib/python3.7/site-packages (from pyscreeze>=0.1.21->pyautogui) (7.0.0)\n",
      "Requirement already satisfied: pyperclip in /opt/anaconda3/lib/python3.7/site-packages (from mouseinfo->pyautogui) (1.8.0)\n",
      "Requirement already satisfied: rubicon-objc; platform_system == \"Darwin\" in /opt/anaconda3/lib/python3.7/site-packages (from mouseinfo->pyautogui) (0.3.1)\n",
      "Requirement already satisfied: pyrect in /opt/anaconda3/lib/python3.7/site-packages (from pygetwindow>=0.0.5->pyautogui) (0.1.4)\n",
      "Note: you may need to restart the kernel to use updated packages.\n"
     ]
    }
   ],
   "source": [
    "pip install pyautogui"
   ]
  },
  {
   "cell_type": "code",
   "execution_count": 2,
   "metadata": {},
   "outputs": [],
   "source": [
    "import pyautogui"
   ]
  },
  {
   "cell_type": "code",
   "execution_count": 35,
   "metadata": {},
   "outputs": [
    {
     "data": {
      "text/plain": [
       "Point(x=612, y=206)"
      ]
     },
     "execution_count": 35,
     "metadata": {},
     "output_type": "execute_result"
    }
   ],
   "source": [
    "pyautogui.position()"
   ]
  },
  {
   "cell_type": "code",
   "execution_count": 36,
   "metadata": {},
   "outputs": [],
   "source": [
    "freq_of_parent_coord = 612,203\n",
    "click_count_coord = 99,387\n",
    "click_ok_coord = 544,508"
   ]
  },
  {
   "cell_type": "code",
   "execution_count": 37,
   "metadata": {},
   "outputs": [],
   "source": [
    "num_repeats = 140"
   ]
  },
  {
   "cell_type": "code",
   "execution_count": 39,
   "metadata": {},
   "outputs": [],
   "source": [
    "pyautogui.moveTo(freq_of_parent_coord)\n",
    "pyautogui.click()\n",
    "for i in range(num_repeats):\n",
    "    pyautogui.moveTo(freq_of_parent_coord)\n",
    "    pyautogui.click(clicks=2)\n",
    "    pyautogui.moveTo(click_count_coord)\n",
    "    pyautogui.click()\n",
    "    pyautogui.moveTo(click_ok_coord)\n",
    "    pyautogui.click()\n",
    "    pyautogui.moveTo(freq_of_parent_coord)\n",
    "    pyautogui.click()\n",
    "    pyautogui.scroll(-1)"
   ]
  },
  {
   "cell_type": "code",
   "execution_count": null,
   "metadata": {},
   "outputs": [],
   "source": []
  },
  {
   "cell_type": "code",
   "execution_count": null,
   "metadata": {},
   "outputs": [],
   "source": []
  },
  {
   "cell_type": "code",
   "execution_count": null,
   "metadata": {},
   "outputs": [],
   "source": []
  },
  {
   "cell_type": "code",
   "execution_count": null,
   "metadata": {},
   "outputs": [],
   "source": [
    "\n",
    "    "
   ]
  },
  {
   "cell_type": "code",
   "execution_count": null,
   "metadata": {},
   "outputs": [],
   "source": []
  }
 ],
 "metadata": {
  "kernelspec": {
   "display_name": "Python 3",
   "language": "python",
   "name": "python3"
  },
  "language_info": {
   "codemirror_mode": {
    "name": "ipython",
    "version": 3
   },
   "file_extension": ".py",
   "mimetype": "text/x-python",
   "name": "python",
   "nbconvert_exporter": "python",
   "pygments_lexer": "ipython3",
   "version": "3.7.6"
  }
 },
 "nbformat": 4,
 "nbformat_minor": 4
}
